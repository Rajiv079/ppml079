{
 "cells": [
  {
   "cell_type": "code",
   "execution_count": 1,
   "id": "f2819dc6",
   "metadata": {},
   "outputs": [
    {
     "name": "stdout",
     "output_type": "stream",
     "text": [
      "orginalarray: [1 2 3 4 5 4 4]\n",
      "\n",
      "indexes where the value is 4: (array([3, 5, 6], dtype=int64),)\n"
     ]
    }
   ],
   "source": [
    "import numpy as np\n",
    "arr=np.array([1,2,3,4,5,4,4])\n",
    "print(\"orginalarray:\",arr)\n",
    "x=np.where(arr==4)\n",
    "print(\"\\nindexes where the value is 4:\",x)"
   ]
  },
  {
   "cell_type": "code",
   "execution_count": 2,
   "id": "58dce71f",
   "metadata": {},
   "outputs": [
    {
     "name": "stdout",
     "output_type": "stream",
     "text": [
      "\n",
      "orginal array:arr\n",
      "\n",
      " indexes where the values are even: (array([1, 3, 5, 7], dtype=int64),)\n"
     ]
    }
   ],
   "source": [
    "arr=np.array([1,2,3,4,5,6,7,8])\n",
    "x=np.where(arr%2==0)\n",
    "print(\"\\norginal array:arr\")\n",
    "print(\"\\n indexes where the values are even:\",x)"
   ]
  },
  {
   "cell_type": "code",
   "execution_count": 3,
   "id": "cc8725db",
   "metadata": {},
   "outputs": [
    {
     "name": "stdout",
     "output_type": "stream",
     "text": [
      "\n",
      "orginal array: [1 2 3 4 5 6 7 8]\n",
      "\n",
      "sorted array: [1 2 3 4 5 6 7 8]\n"
     ]
    }
   ],
   "source": [
    "x=np.array([3,2,1,0])\n",
    "print(\"\\norginal array:\",arr)\n",
    "print(\"\\nsorted array:\",arr)\n"
   ]
  },
  {
   "cell_type": "code",
   "execution_count": 4,
   "id": "45997207",
   "metadata": {},
   "outputs": [
    {
     "name": "stdout",
     "output_type": "stream",
     "text": [
      "\n",
      "orginal array: [[3 2 4]\n",
      " [5 0 1]]\n",
      "sorted array: [[2 3 4]\n",
      " [0 1 5]]\n"
     ]
    }
   ],
   "source": [
    "arr=np.array([[3,2,4],[5,0,1]])\n",
    "print(\"\\norginal array:\",arr)\n",
    "print(\"sorted array:\",np.sort(arr))"
   ]
  },
  {
   "cell_type": "code",
   "execution_count": 5,
   "id": "26e53d80",
   "metadata": {},
   "outputs": [
    {
     "name": "stdout",
     "output_type": "stream",
     "text": [
      "\n",
      "orginal array: [41 42 43 44]\n",
      "\n",
      "filter index: [True, False, True, False]\n",
      "\n",
      "filter array: [41 43]\n"
     ]
    }
   ],
   "source": [
    "arr=np.array([41,42,43,44])\n",
    "x=[True,False,True,False]\n",
    "newarr=arr[x]\n",
    "print(\"\\norginal array:\",arr)\n",
    "print(\"\\nfilter index:\",x)\n",
    "print(\"\\nfilter array:\",newarr)"
   ]
  },
  {
   "cell_type": "code",
   "execution_count": 6,
   "id": "2615dbdc",
   "metadata": {},
   "outputs": [
    {
     "name": "stdout",
     "output_type": "stream",
     "text": [
      "\n",
      "orginal array: [41 42 43 44]\n",
      "\n",
      "filter array:condition->42: [False False  True  True]\n",
      "\n",
      "New array: [43 44]\n"
     ]
    }
   ],
   "source": [
    "arr=np.array([41,42,43,44])\n",
    "filter_arr=arr>42\n",
    "newarr=arr[filter_arr]\n",
    "print(\"\\norginal array:\",arr)\n",
    "print(\"\\nfilter array:condition->42:\",filter_arr)\n",
    "print(\"\\nNew array:\",newarr)"
   ]
  },
  {
   "cell_type": "code",
   "execution_count": null,
   "id": "1a0fe832",
   "metadata": {},
   "outputs": [],
   "source": []
  },
  {
   "cell_type": "code",
   "execution_count": null,
   "id": "dc5f5006",
   "metadata": {},
   "outputs": [],
   "source": []
  }
 ],
 "metadata": {
  "kernelspec": {
   "display_name": "Python 3 (ipykernel)",
   "language": "python",
   "name": "python3"
  },
  "language_info": {
   "codemirror_mode": {
    "name": "ipython",
    "version": 3
   },
   "file_extension": ".py",
   "mimetype": "text/x-python",
   "name": "python",
   "nbconvert_exporter": "python",
   "pygments_lexer": "ipython3",
   "version": "3.11.5"
  }
 },
 "nbformat": 4,
 "nbformat_minor": 5
}
