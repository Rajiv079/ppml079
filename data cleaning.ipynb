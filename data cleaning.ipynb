{
 "cells": [
  {
   "cell_type": "code",
   "execution_count": 1,
   "id": "ca2b363d",
   "metadata": {},
   "outputs": [],
   "source": [
    "import pandas as pd\n",
    "import numpy as np"
   ]
  },
  {
   "cell_type": "code",
   "execution_count": 2,
   "id": "49b6f1e5",
   "metadata": {},
   "outputs": [
    {
     "name": "stdout",
     "output_type": "stream",
     "text": [
      "        one       two     three\n",
      "a  1.375930  0.286366 -0.266920\n",
      "c  0.262443 -1.541533  1.514513\n",
      "e -1.220555 -0.391372  0.729177\n",
      "f  0.140819 -0.225119 -2.706914\n",
      "h  0.258548  1.111541  2.378524\n"
     ]
    }
   ],
   "source": [
    "df=pd.DataFrame(np.random.randn(5,3),index=['a','c','e','f','h'],columns=['one','two','three'])\n",
    "print(df)"
   ]
  },
  {
   "cell_type": "code",
   "execution_count": 3,
   "id": "f4e9ea3f",
   "metadata": {},
   "outputs": [
    {
     "name": "stdout",
     "output_type": "stream",
     "text": [
      "        one       two     three\n",
      "a  1.375930  0.286366 -0.266920\n",
      "b       NaN       NaN       NaN\n",
      "c  0.262443 -1.541533  1.514513\n",
      "d       NaN       NaN       NaN\n",
      "e -1.220555 -0.391372  0.729177\n",
      "f  0.140819 -0.225119 -2.706914\n",
      "g       NaN       NaN       NaN\n",
      "h  0.258548  1.111541  2.378524\n"
     ]
    }
   ],
   "source": [
    "df=df.reindex(['a','b','c','d','e','f','g','h'])\n",
    "print(df)"
   ]
  },
  {
   "cell_type": "code",
   "execution_count": 4,
   "id": "1f29a166",
   "metadata": {},
   "outputs": [
    {
     "name": "stdout",
     "output_type": "stream",
     "text": [
      "        one       two     three\n",
      "a  1.375930  0.286366 -0.266920\n",
      "c  0.262443 -1.541533  1.514513\n",
      "e -1.220555 -0.391372  0.729177\n",
      "f  0.140819 -0.225119 -2.706914\n",
      "h  0.258548  1.111541  2.378524\n"
     ]
    }
   ],
   "source": [
    "print(df.dropna())"
   ]
  },
  {
   "cell_type": "code",
   "execution_count": 9,
   "id": "b8aec453",
   "metadata": {},
   "outputs": [
    {
     "name": "stdout",
     "output_type": "stream",
     "text": [
      "        one       two     three\n",
      "a -0.398295  0.077740 -1.138389\n",
      "c -0.294491  0.320712  1.122041\n",
      "e -1.530507  0.083313  0.570701\n",
      "        one       two     three\n",
      "a -0.398295  0.077740 -1.138389\n",
      "b       NaN       NaN       NaN\n",
      "c -0.294491  0.320712  1.122041\n"
     ]
    }
   ],
   "source": [
    "df=pd.DataFrame(np.random.randn(3,3),index=['a','c','e'],columns=['one','two','three'])\n",
    "print(df)\n",
    "df=df.reindex(['a','b','c'])\n",
    "print(df)"
   ]
  },
  {
   "cell_type": "code",
   "execution_count": 10,
   "id": "979d4a12",
   "metadata": {},
   "outputs": [
    {
     "name": "stdout",
     "output_type": "stream",
     "text": [
      "        one       two     three\n",
      "a -0.398295  0.077740 -1.138389\n",
      "b  0.000000  0.000000  0.000000\n",
      "c -0.294491  0.320712  1.122041\n"
     ]
    }
   ],
   "source": [
    "print(df.fillna(0))"
   ]
  },
  {
   "cell_type": "code",
   "execution_count": 11,
   "id": "185d3c84",
   "metadata": {},
   "outputs": [
    {
     "name": "stdout",
     "output_type": "stream",
     "text": [
      "    one   two\n",
      "0    10  1000\n",
      "1    20     0\n",
      "2    30    30\n",
      "3    40    40\n",
      "4    50    50\n",
      "5  2000    60\n"
     ]
    }
   ],
   "source": [
    "df=pd.DataFrame({'one':[10,20,30,40,50,2000],'two':[1000,0,30,40,50,60]})\n",
    "print(df)"
   ]
  },
  {
   "cell_type": "code",
   "execution_count": 13,
   "id": "31c3c8a0",
   "metadata": {},
   "outputs": [
    {
     "name": "stdout",
     "output_type": "stream",
     "text": [
      "   one  two\n",
      "0   10   10\n",
      "1   20  100\n",
      "2   30   30\n",
      "3  400  400\n",
      "4   50   50\n",
      "5   60   60\n"
     ]
    }
   ],
   "source": [
    "print(df.replace({1000:10,2000:60,40:400,0:100}))\n"
   ]
  },
  {
   "cell_type": "code",
   "execution_count": 23,
   "id": "5601f1e9",
   "metadata": {},
   "outputs": [
    {
     "name": "stdout",
     "output_type": "stream",
     "text": [
      "        one       two     three\n",
      "a  2.199857 -0.515031  2.203799\n",
      "c  1.460620  1.133484 -0.435635\n",
      "e  0.409101  0.023304  0.562311\n",
      "f  0.338517 -0.131059 -0.569846\n",
      "h -0.868103  0.914388 -0.454683\n"
     ]
    }
   ],
   "source": [
    "df=pd.DataFrame(np.random.randn(5,3),index=['a','c','e','f','h'],columns=['one','two','three'])\n",
    "print(df)"
   ]
  },
  {
   "cell_type": "code",
   "execution_count": 27,
   "id": "f00082ba",
   "metadata": {},
   "outputs": [
    {
     "name": "stdout",
     "output_type": "stream",
     "text": [
      "        one       two     three\n",
      "a  2.199857 -0.515031  2.203799\n",
      "b       NaN       NaN       NaN\n",
      "c  1.460620  1.133484 -0.435635\n",
      "d       NaN       NaN       NaN\n",
      "e  0.409101  0.023304  0.562311\n",
      "f  0.338517 -0.131059 -0.569846\n",
      "g       NaN       NaN       NaN\n",
      "h -0.868103  0.914388 -0.454683\n"
     ]
    }
   ],
   "source": [
    "df=df.reindex(['a','b','c','d','e','f','g','h'])\n",
    "print(df)"
   ]
  },
  {
   "cell_type": "code",
   "execution_count": 29,
   "id": "609992e5",
   "metadata": {},
   "outputs": [
    {
     "name": "stdout",
     "output_type": "stream",
     "text": [
      "        one       two     three\n",
      "a  2.199857 -0.515031  2.203799\n",
      "b  2.199857 -0.515031  2.203799\n",
      "c  1.460620  1.133484 -0.435635\n",
      "d  1.460620  1.133484 -0.435635\n",
      "e  0.409101  0.023304  0.562311\n",
      "f  0.338517 -0.131059 -0.569846\n",
      "g  0.338517 -0.131059 -0.569846\n",
      "h -0.868103  0.914388 -0.454683\n"
     ]
    }
   ],
   "source": [
    "print(df.fillna(method='pad'))"
   ]
  },
  {
   "cell_type": "code",
   "execution_count": 30,
   "id": "6b17f2c4",
   "metadata": {},
   "outputs": [
    {
     "name": "stdout",
     "output_type": "stream",
     "text": [
      "        one       two     three\n",
      "a  2.199857 -0.515031  2.203799\n",
      "b  1.460620  1.133484 -0.435635\n",
      "c  1.460620  1.133484 -0.435635\n",
      "d  0.409101  0.023304  0.562311\n",
      "e  0.409101  0.023304  0.562311\n",
      "f  0.338517 -0.131059 -0.569846\n",
      "g -0.868103  0.914388 -0.454683\n",
      "h -0.868103  0.914388 -0.454683\n"
     ]
    }
   ],
   "source": [
    "print(df.fillna(method='bfill'))"
   ]
  },
  {
   "cell_type": "code",
   "execution_count": null,
   "id": "fd8b6747",
   "metadata": {},
   "outputs": [],
   "source": []
  }
 ],
 "metadata": {
  "kernelspec": {
   "display_name": "Python 3 (ipykernel)",
   "language": "python",
   "name": "python3"
  },
  "language_info": {
   "codemirror_mode": {
    "name": "ipython",
    "version": 3
   },
   "file_extension": ".py",
   "mimetype": "text/x-python",
   "name": "python",
   "nbconvert_exporter": "python",
   "pygments_lexer": "ipython3",
   "version": "3.11.5"
  }
 },
 "nbformat": 4,
 "nbformat_minor": 5
}
