{
 "cells": [
  {
   "cell_type": "code",
   "execution_count": 1,
   "id": "9536eb5b",
   "metadata": {},
   "outputs": [
    {
     "name": "stdout",
     "output_type": "stream",
     "text": [
      "orginal arrays\n",
      "[10 20 30 40 50]\n",
      "[ 2  4  5  8 10]\n"
     ]
    }
   ],
   "source": [
    "import numpy as np\n",
    "arr1=[10,20,30,40,50]\n",
    "arr2=[2,4,5,8,10]\n",
    "a=np.array(arr1)\n",
    "b=np.array(arr2)\n",
    "print(\"orginal arrays\")\n",
    "print(a)\n",
    "print(b)"
   ]
  },
  {
   "cell_type": "code",
   "execution_count": 2,
   "id": "7e57cbc4",
   "metadata": {},
   "outputs": [
    {
     "name": "stdout",
     "output_type": "stream",
     "text": [
      "\n",
      "vector additions\n",
      "[12 24 35 48 60]\n"
     ]
    }
   ],
   "source": [
    "print(\"\\nvector additions\")\n",
    "print(a+b)"
   ]
  },
  {
   "cell_type": "code",
   "execution_count": 3,
   "id": "4c2a9fb8",
   "metadata": {},
   "outputs": [
    {
     "name": "stdout",
     "output_type": "stream",
     "text": [
      "\n",
      "vector subractions\n",
      "[ 8 16 25 32 40]\n"
     ]
    }
   ],
   "source": [
    "print(\"\\nvector subractions\")\n",
    "print(a-b)"
   ]
  },
  {
   "cell_type": "code",
   "execution_count": 4,
   "id": "e09c4ed3",
   "metadata": {},
   "outputs": [
    {
     "name": "stdout",
     "output_type": "stream",
     "text": [
      "\n",
      "vector multiplication\n",
      "[ 20  80 150 320 500]\n"
     ]
    }
   ],
   "source": [
    "print(\"\\nvector multiplication\")\n",
    "print(a*b)"
   ]
  },
  {
   "cell_type": "code",
   "execution_count": 5,
   "id": "f128887e",
   "metadata": {},
   "outputs": [
    {
     "name": "stdout",
     "output_type": "stream",
     "text": [
      "\n",
      "vector division\n",
      "[5. 5. 6. 5. 5.]\n"
     ]
    }
   ],
   "source": [
    "print(\"\\nvector division\")\n",
    "print(a/b)"
   ]
  },
  {
   "cell_type": "code",
   "execution_count": 6,
   "id": "064fca1b",
   "metadata": {},
   "outputs": [
    {
     "name": "stdout",
     "output_type": "stream",
     "text": [
      "\n",
      "vector dot product\n",
      "1070\n"
     ]
    }
   ],
   "source": [
    "print(\"\\nvector dot product\")\n",
    "print(a.dot(b))"
   ]
  },
  {
   "cell_type": "code",
   "execution_count": 7,
   "id": "dbd8979e",
   "metadata": {},
   "outputs": [
    {
     "name": "stdout",
     "output_type": "stream",
     "text": [
      "\n",
      "scalar multiplication\n"
     ]
    }
   ],
   "source": [
    "print(\"\\nscalar multiplication\")\n",
    "sclr=5"
   ]
  },
  {
   "cell_type": "code",
   "execution_count": 8,
   "id": "4676652d",
   "metadata": {},
   "outputs": [
    {
     "name": "stdout",
     "output_type": "stream",
     "text": [
      "\n",
      "scalar multiplication\n",
      "scalar value= 5\n",
      "array= [10 20 30 40 50]\n",
      "result= [ 50 100 150 200 250]\n"
     ]
    }
   ],
   "source": [
    "print(\"\\nscalar multiplication\")\n",
    "sclr=5\n",
    "print(\"scalar value=\",sclr)\n",
    "print(\"array=\",a)\n",
    "print(\"result=\",a*sclr)"
   ]
  },
  {
   "cell_type": "code",
   "execution_count": 24,
   "id": "0b81582c",
   "metadata": {},
   "outputs": [
    {
     "name": "stdout",
     "output_type": "stream",
     "text": [
      "\n",
      "\n",
      "numpy.vectorize method\n",
      "(Return x-y ifx>y.otherwise return x+y)\n",
      "array1: [10, 4, 20]\n",
      "array2 [2, 3, 30]\n",
      "result: [ 8  1 50]\n"
     ]
    }
   ],
   "source": [
    "def my_func(x,y):\n",
    "    if x>y:\n",
    "        return x-y\n",
    "    else:\n",
    "        return x+y\n",
    "print(\"\\n\\nnumpy.vectorize method\")\n",
    "print(\"(Return x-y ifx>y.otherwise return x+y)\")\n",
    "arr1=[10,4,20]\n",
    "arr2=[2,3,30]\n",
    "vec_func=np.vectorize(my_func)\n",
    "print(\"array1:\",arr1)\n",
    "print(\"array2\",arr2)\n",
    "print(\"result:\",vec_func(arr1,arr2))\n",
    "    "
   ]
  },
  {
   "cell_type": "code",
   "execution_count": null,
   "id": "4d1eabf8",
   "metadata": {},
   "outputs": [],
   "source": []
  }
 ],
 "metadata": {
  "kernelspec": {
   "display_name": "Python 3 (ipykernel)",
   "language": "python",
   "name": "python3"
  },
  "language_info": {
   "codemirror_mode": {
    "name": "ipython",
    "version": 3
   },
   "file_extension": ".py",
   "mimetype": "text/x-python",
   "name": "python",
   "nbconvert_exporter": "python",
   "pygments_lexer": "ipython3",
   "version": "3.11.5"
  }
 },
 "nbformat": 4,
 "nbformat_minor": 5
}
