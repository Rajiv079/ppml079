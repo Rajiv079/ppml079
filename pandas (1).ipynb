{
 "cells": [
  {
   "cell_type": "code",
   "execution_count": 2,
   "id": "ad8ca235",
   "metadata": {},
   "outputs": [],
   "source": [
    "import pandas as pd\n",
    "import numpy as np"
   ]
  },
  {
   "cell_type": "code",
   "execution_count": 3,
   "id": "675ebd3c",
   "metadata": {},
   "outputs": [
    {
     "name": "stdout",
     "output_type": "stream",
     "text": [
      "Empty DataFrame\n",
      "Columns: []\n",
      "Index: []\n"
     ]
    }
   ],
   "source": [
    "df=pd.DataFrame()\n",
    "print(df)"
   ]
  },
  {
   "cell_type": "code",
   "execution_count": 4,
   "id": "ed4becb7",
   "metadata": {},
   "outputs": [
    {
     "name": "stdout",
     "output_type": "stream",
     "text": [
      "        Emp   ID\n",
      "0    Vishwa  119\n",
      "1  Ramanesh   80\n",
      "2      Bala  508\n",
      "3      Siva  118\n",
      "0      Vishwa\n",
      "1    Ramanesh\n",
      "2        Bala\n",
      "3        Siva\n",
      "Name: Emp, dtype: object\n"
     ]
    }
   ],
   "source": [
    "emp=pd.Series(['Vishwa','Ramanesh','Bala','Siva'])\n",
    "id=pd.Series([119,80,508,118])\n",
    "frame={'Emp':emp,'ID':id}\n",
    "result=pd.DataFrame(frame)\n",
    "print(result)\n",
    "print(result['Emp'])"
   ]
  },
  {
   "cell_type": "code",
   "execution_count": 5,
   "id": "6e8aec17",
   "metadata": {},
   "outputs": [
    {
     "name": "stdout",
     "output_type": "stream",
     "text": [
      "        Emp   ID  Age\n",
      "0    Vishwa  119   19\n",
      "1  Ramanesh   80   20\n",
      "2      Bala  508   22\n",
      "3      Siva  118   19\n"
     ]
    }
   ],
   "source": [
    "result['Age']=pd.Series([19,20,22,19])\n",
    "print(result)"
   ]
  },
  {
   "cell_type": "code",
   "execution_count": 6,
   "id": "cbe92875",
   "metadata": {},
   "outputs": [
    {
     "name": "stdout",
     "output_type": "stream",
     "text": [
      "        Emp   ID\n",
      "0    Vishwa  119\n",
      "1  Ramanesh   80\n",
      "2      Bala  508\n",
      "3      Siva  118\n"
     ]
    }
   ],
   "source": [
    "del result['Age']\n",
    "print(result)"
   ]
  },
  {
   "cell_type": "code",
   "execution_count": 7,
   "id": "cca9d0a2",
   "metadata": {},
   "outputs": [
    {
     "name": "stdout",
     "output_type": "stream",
     "text": [
      "Emp    Ramanesh\n",
      "ID           80\n",
      "Name: 1, dtype: object\n"
     ]
    }
   ],
   "source": [
    "print(result.loc[1])"
   ]
  },
  {
   "cell_type": "code",
   "execution_count": 8,
   "id": "d924c608",
   "metadata": {},
   "outputs": [
    {
     "name": "stdout",
     "output_type": "stream",
     "text": [
      "        Emp   ID\n",
      "1  Ramanesh   80\n",
      "2      Bala  508\n"
     ]
    }
   ],
   "source": [
    "print(result[1:3])"
   ]
  },
  {
   "cell_type": "code",
   "execution_count": 9,
   "id": "05e4d8d6",
   "metadata": {},
   "outputs": [
    {
     "name": "stdout",
     "output_type": "stream",
     "text": [
      "        Emp   ID\n",
      "0    Vishwa  119\n",
      "1  Ramanesh   80\n",
      "2      Bala  508\n",
      "3      Siva  118\n",
      "0      Date  123\n",
      "1      Mark  143\n"
     ]
    },
    {
     "name": "stderr",
     "output_type": "stream",
     "text": [
      "C:\\Users\\Tcs\\AppData\\Local\\Temp\\ipykernel_9860\\1079628763.py:2: FutureWarning: The frame.append method is deprecated and will be removed from pandas in a future version. Use pandas.concat instead.\n",
      "  print(result.append(d2))\n"
     ]
    }
   ],
   "source": [
    "d2=pd.DataFrame([['Date',123],['Mark',143]],columns=['Emp','ID'])\n",
    "print(result.append(d2))"
   ]
  },
  {
   "cell_type": "code",
   "execution_count": 10,
   "id": "8e568948",
   "metadata": {},
   "outputs": [
    {
     "name": "stdout",
     "output_type": "stream",
     "text": [
      "      Emp   ID\n",
      "0  Vishwa  119\n",
      "2    Bala  508\n",
      "3    Siva  118\n"
     ]
    }
   ],
   "source": [
    "print(result.drop(1))"
   ]
  },
  {
   "cell_type": "code",
   "execution_count": 11,
   "id": "d55e1cb3",
   "metadata": {},
   "outputs": [
    {
     "name": "stdout",
     "output_type": "stream",
     "text": [
      "0    P\n",
      "1    a\n",
      "2    n\n",
      "3    d\n",
      "4    a\n",
      "5    s\n",
      "dtype: object\n"
     ]
    }
   ],
   "source": [
    "arr=np.array(['P','a','n','d','a','s'])\n",
    "a=pd.Series(arr)\n",
    "print(a)"
   ]
  },
  {
   "cell_type": "code",
   "execution_count": 12,
   "id": "bff0dbf2",
   "metadata": {},
   "outputs": [
    {
     "name": "stdout",
     "output_type": "stream",
     "text": [
      "x    0.0\n",
      "y    1.0\n",
      "z    2.0\n",
      "dtype: float64\n"
     ]
    }
   ],
   "source": [
    "arr={'x':0.,'y':1.,'z':2.}\n",
    "b=pd.Series(arr)\n",
    "print(b)"
   ]
  },
  {
   "cell_type": "code",
   "execution_count": 13,
   "id": "7ae5a921",
   "metadata": {},
   "outputs": [
    {
     "name": "stdout",
     "output_type": "stream",
     "text": [
      "0    4\n",
      "1    4\n",
      "2    4\n",
      "dtype: int64\n"
     ]
    }
   ],
   "source": [
    "x=pd.Series(4,index=[0,1,2])\n",
    "print(x)"
   ]
  },
  {
   "cell_type": "code",
   "execution_count": 14,
   "id": "3743f639",
   "metadata": {},
   "outputs": [
    {
     "name": "stdout",
     "output_type": "stream",
     "text": [
      "a    1\n",
      "b    2\n",
      "c    3\n",
      "dtype: int64\n"
     ]
    }
   ],
   "source": [
    "x=pd.Series([1,2,3],index=['a','b','c'])\n",
    "print(x)"
   ]
  },
  {
   "cell_type": "code",
   "execution_count": 15,
   "id": "0c44d3d2",
   "metadata": {},
   "outputs": [],
   "source": [
    "a=pd.Series(data=[1,2,3,4])"
   ]
  },
  {
   "cell_type": "code",
   "execution_count": 16,
   "id": "533a20af",
   "metadata": {},
   "outputs": [
    {
     "name": "stdout",
     "output_type": "stream",
     "text": [
      "0    1\n",
      "1    2\n",
      "2    3\n",
      "3    4\n",
      "dtype: int64\n"
     ]
    }
   ],
   "source": [
    "print(a)"
   ]
  },
  {
   "cell_type": "code",
   "execution_count": 17,
   "id": "d465ab48",
   "metadata": {},
   "outputs": [
    {
     "name": "stdout",
     "output_type": "stream",
     "text": [
      "RangeIndex(start=0, stop=4, step=1)\n"
     ]
    }
   ],
   "source": [
    "print(a.index)"
   ]
  },
  {
   "cell_type": "code",
   "execution_count": 18,
   "id": "235058d7",
   "metadata": {},
   "outputs": [
    {
     "name": "stdout",
     "output_type": "stream",
     "text": [
      "[1 2 3 4]\n"
     ]
    }
   ],
   "source": [
    "print(a.values)"
   ]
  },
  {
   "cell_type": "code",
   "execution_count": 19,
   "id": "c3b96dd3",
   "metadata": {},
   "outputs": [
    {
     "name": "stdout",
     "output_type": "stream",
     "text": [
      "(4,)\n"
     ]
    }
   ],
   "source": [
    "print(a.shape)"
   ]
  },
  {
   "cell_type": "code",
   "execution_count": 20,
   "id": "71131805",
   "metadata": {},
   "outputs": [
    {
     "name": "stdout",
     "output_type": "stream",
     "text": [
      "1\n"
     ]
    }
   ],
   "source": [
    "print(a.ndim)"
   ]
  },
  {
   "cell_type": "code",
   "execution_count": 21,
   "id": "fb808c8e",
   "metadata": {},
   "outputs": [
    {
     "name": "stdout",
     "output_type": "stream",
     "text": [
      "4\n"
     ]
    }
   ],
   "source": [
    "print(a.size)"
   ]
  },
  {
   "cell_type": "code",
   "execution_count": 23,
   "id": "dcaedf95",
   "metadata": {},
   "outputs": [
    {
     "name": "stdout",
     "output_type": "stream",
     "text": [
      "Empty DataFrame\n",
      "Columns: []\n",
      "Index: []\n"
     ]
    }
   ],
   "source": [
    "df=pd.DataFrame()\n",
    "print(df)"
   ]
  },
  {
   "cell_type": "code",
   "execution_count": 26,
   "id": "9475bc80",
   "metadata": {},
   "outputs": [
    {
     "name": "stdout",
     "output_type": "stream",
     "text": [
      "   P  Q\n",
      "0  2  7\n",
      "1  2  7\n",
      "2  2  7\n",
      "          P         Q\n",
      "0  1.414214  2.645751\n",
      "1  1.414214  2.645751\n",
      "2  1.414214  2.645751\n",
      "P     6\n",
      "Q    21\n",
      "dtype: int64\n",
      "0    9\n",
      "1    9\n",
      "2    9\n",
      "dtype: int64\n"
     ]
    }
   ],
   "source": [
    "info=pd.DataFrame([[2,7]]*3,columns=['P','Q'])\n",
    "print(info)\n",
    "print(info.apply(np.sqrt))\n",
    "print(info.apply(np.sum,axis=0))\n",
    "print(info.apply(np.sum,axis=1))\n"
   ]
  },
  {
   "cell_type": "code",
   "execution_count": 27,
   "id": "dd7c2c4a",
   "metadata": {},
   "outputs": [
    {
     "name": "stdout",
     "output_type": "stream",
     "text": [
      "   x  y  z\n",
      "0  1  2  3\n",
      "1  5  6  7\n",
      "2  9  6  3\n"
     ]
    }
   ],
   "source": [
    "info=pd.DataFrame([[1,2,3],[5,6,7],[9,6,3]],columns=['x','y','z'])\n",
    "print(info)"
   ]
  },
  {
   "cell_type": "code",
   "execution_count": 29,
   "id": "79fc17c0",
   "metadata": {},
   "outputs": [
    {
     "name": "stdout",
     "output_type": "stream",
     "text": [
      "     x  y  z\n",
      "min  1  2  3\n"
     ]
    }
   ],
   "source": [
    "print(info.agg(['min','max']))"
   ]
  },
  {
   "cell_type": "code",
   "execution_count": 33,
   "id": "7f898bf3",
   "metadata": {},
   "outputs": [
    {
     "name": "stdout",
     "output_type": "stream",
     "text": [
      "      Emp   ID\n",
      "0  vishnu  123\n",
      "1    Mary  456\n",
      "2  Earwar  789\n"
     ]
    }
   ],
   "source": [
    "d2=pd.DataFrame([['vishnu',123],['Mary',456],['Earwar',789]],columns=['Emp','ID'])\n",
    "print(d2)"
   ]
  },
  {
   "cell_type": "code",
   "execution_count": 34,
   "id": "18401f8a",
   "metadata": {},
   "outputs": [
    {
     "name": "stdout",
     "output_type": "stream",
     "text": [
      "      Emp   ID  Age\n",
      "0  vishnu  123   45\n",
      "1    Mary  456   38\n",
      "2  Earwar  789   49\n"
     ]
    }
   ],
   "source": [
    "d2['Age']=[45,38,49]\n",
    "print(d2)"
   ]
  },
  {
   "cell_type": "code",
   "execution_count": 36,
   "id": "08f2044c",
   "metadata": {},
   "outputs": [
    {
     "name": "stdout",
     "output_type": "stream",
     "text": [
      "      Emp   ID  Age     sex\n",
      "0  vishnu  123   45    Male\n",
      "1    Mary  456   38  Female\n",
      "2  Earwar  789   49    Male\n"
     ]
    }
   ],
   "source": [
    "d=d2.assign(sex=['Male','Female','Male'])\n",
    "print(d)"
   ]
  },
  {
   "cell_type": "code",
   "execution_count": 39,
   "id": "5687d197",
   "metadata": {},
   "outputs": [
    {
     "name": "stdout",
     "output_type": "stream",
     "text": [
      "       ran1      ran2\n",
      "5 -0.770119  0.575292\n",
      "4  0.363669 -0.896716\n",
      "3 -1.439171  0.029252\n",
      "2 -0.673314 -1.335658\n",
      "1 -0.425517  0.602761\n"
     ]
    }
   ],
   "source": [
    "info=pd.DataFrame(np.random.randn(5,2),index=(5,4,3,2,1),columns=['ran1','ran2'])\n",
    "print(info)"
   ]
  },
  {
   "cell_type": "code",
   "execution_count": 40,
   "id": "058918fc",
   "metadata": {},
   "outputs": [
    {
     "name": "stdout",
     "output_type": "stream",
     "text": [
      "       ran1      ran2\n",
      "1 -0.425517  0.602761\n",
      "2 -0.673314 -1.335658\n",
      "3 -1.439171  0.029252\n",
      "4  0.363669 -0.896716\n",
      "5 -0.770119  0.575292\n"
     ]
    }
   ],
   "source": [
    "info2=info.sort_index()\n",
    "print(info2)"
   ]
  },
  {
   "cell_type": "code",
   "execution_count": 42,
   "id": "54796efb",
   "metadata": {},
   "outputs": [
    {
     "name": "stdout",
     "output_type": "stream",
     "text": [
      "       ran1      ran2\n",
      "3 -1.439171  0.029252\n",
      "5 -0.770119  0.575292\n",
      "2 -0.673314 -1.335658\n",
      "1 -0.425517  0.602761\n",
      "4  0.363669 -0.896716\n"
     ]
    }
   ],
   "source": [
    "info3=info.sort_values(by='ran1')\n",
    "print(info3)"
   ]
  },
  {
   "cell_type": "code",
   "execution_count": 50,
   "id": "f162047c",
   "metadata": {},
   "outputs": [],
   "source": [
    "left=pd.DataFrame({'id':[1,2,3,4,5],'name':['vishwa','bala','siva','hari','ram'],'sub':['sub1','sub2','sub3','sub4','sub5']})"
   ]
  },
  {
   "cell_type": "code",
   "execution_count": 51,
   "id": "483fdbe9",
   "metadata": {},
   "outputs": [],
   "source": [
    "right=pd.DataFrame({'id':[1,2,3,4,5],'name':['varun','boy','sivam','raj','sam'],'sub':['sub1','sub2','sub3','sub4','sub5']})"
   ]
  },
  {
   "cell_type": "code",
   "execution_count": 52,
   "id": "a5d65900",
   "metadata": {},
   "outputs": [
    {
     "name": "stdout",
     "output_type": "stream",
     "text": [
      "   id    name   sub\n",
      "0   1  vishwa  sub1\n",
      "1   2    bala  sub2\n",
      "2   3    siva  sub3\n",
      "3   4    hari  sub4\n",
      "4   5     ram  sub5\n"
     ]
    }
   ],
   "source": [
    "print(left)"
   ]
  },
  {
   "cell_type": "code",
   "execution_count": 53,
   "id": "1311f4fe",
   "metadata": {},
   "outputs": [
    {
     "name": "stdout",
     "output_type": "stream",
     "text": [
      "   id   name   sub\n",
      "0   1  varun  sub1\n",
      "1   2    boy  sub2\n",
      "2   3  sivam  sub3\n",
      "3   4    raj  sub4\n",
      "4   5    sam  sub5\n"
     ]
    }
   ],
   "source": [
    "print(right)"
   ]
  },
  {
   "cell_type": "code",
   "execution_count": 54,
   "id": "152cce1d",
   "metadata": {},
   "outputs": [
    {
     "name": "stdout",
     "output_type": "stream",
     "text": [
      "   id  name_x sub_x name_y sub_y\n",
      "0   1  vishwa  sub1  varun  sub1\n",
      "1   2    bala  sub2    boy  sub2\n",
      "2   3    siva  sub3  sivam  sub3\n",
      "3   4    hari  sub4    raj  sub4\n",
      "4   5     ram  sub5    sam  sub5\n"
     ]
    }
   ],
   "source": [
    "print(pd.merge(left,right,on='id'))"
   ]
  },
  {
   "cell_type": "code",
   "execution_count": null,
   "id": "4dcbbe67",
   "metadata": {},
   "outputs": [],
   "source": []
  }
 ],
 "metadata": {
  "kernelspec": {
   "display_name": "Python 3 (ipykernel)",
   "language": "python",
   "name": "python3"
  },
  "language_info": {
   "codemirror_mode": {
    "name": "ipython",
    "version": 3
   },
   "file_extension": ".py",
   "mimetype": "text/x-python",
   "name": "python",
   "nbconvert_exporter": "python",
   "pygments_lexer": "ipython3",
   "version": "3.9.12"
  }
 },
 "nbformat": 4,
 "nbformat_minor": 5
}
