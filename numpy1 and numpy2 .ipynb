{
 "cells": [
  {
   "cell_type": "code",
   "execution_count": 1,
   "id": "e2be899b",
   "metadata": {},
   "outputs": [
    {
     "ename": "TypeError",
     "evalue": "Field elements must be 2- or 3-tuples, got '5'",
     "output_type": "error",
     "traceback": [
      "\u001b[1;31m---------------------------------------------------------------------------\u001b[0m",
      "\u001b[1;31mTypeError\u001b[0m                                 Traceback (most recent call last)",
      "Cell \u001b[1;32mIn[1], line 2\u001b[0m\n\u001b[0;32m      1\u001b[0m \u001b[38;5;28;01mimport\u001b[39;00m \u001b[38;5;21;01mnumpy\u001b[39;00m \u001b[38;5;28;01mas\u001b[39;00m \u001b[38;5;21;01mnp\u001b[39;00m\n\u001b[1;32m----> 2\u001b[0m a\u001b[38;5;241m=\u001b[39mnp\u001b[38;5;241m.\u001b[39marray([\u001b[38;5;241m1\u001b[39m,\u001b[38;5;241m2\u001b[39m,\u001b[38;5;241m4\u001b[39m],[\u001b[38;5;241m5\u001b[39m,\u001b[38;5;241m8\u001b[39m,\u001b[38;5;241m7\u001b[39m])\n\u001b[0;32m      3\u001b[0m \u001b[38;5;28mprint\u001b[39m(a)\n",
      "\u001b[1;31mTypeError\u001b[0m: Field elements must be 2- or 3-tuples, got '5'"
     ]
    }
   ],
   "source": [
    "import numpy as np\n",
    "a=np.array([1,2,4],[5,8,7])\n",
    "print(a)"
   ]
  },
  {
   "cell_type": "code",
   "execution_count": 2,
   "id": "05fe380d",
   "metadata": {},
   "outputs": [
    {
     "name": "stdout",
     "output_type": "stream",
     "text": [
      "Array created using passed list:\n",
      " [[1 2 4]\n",
      " [5 8 7]]\n"
     ]
    }
   ],
   "source": [
    "a = np.array([[1, 2, 4], [5, 8, 7]])\n",
    "\n",
    "print (\"Array created using passed list:\\n\", a)"
   ]
  },
  {
   "cell_type": "code",
   "execution_count": 3,
   "id": "986fa918",
   "metadata": {},
   "outputs": [
    {
     "name": "stdout",
     "output_type": "stream",
     "text": [
      "\n",
      "An array initialized with all zeros:\n",
      " [[0. 0. 0. 0.]\n",
      " [0. 0. 0. 0.]\n",
      " [0. 0. 0. 0.]]\n"
     ]
    }
   ],
   "source": [
    "b = np.zeros((3, 4))\n",
    "print (\"\\nAn array initialized with all zeros:\\n\", b)"
   ]
  },
  {
   "cell_type": "code",
   "execution_count": 6,
   "id": "057a27b0",
   "metadata": {},
   "outputs": [
    {
     "name": "stdout",
     "output_type": "stream",
     "text": [
      "\n",
      "An array initialised with all 6s.\n",
      " [[6 6 6]\n",
      " [6 6 6]\n",
      " [6 6 6]]\n"
     ]
    }
   ],
   "source": [
    "c=np.full((3,3),6)\n",
    "print(\"\\nAn array initialised with all 6s.\\n\",c)"
   ]
  },
  {
   "cell_type": "code",
   "execution_count": 7,
   "id": "f11c6db7",
   "metadata": {},
   "outputs": [
    {
     "name": "stdout",
     "output_type": "stream",
     "text": [
      "\n",
      "A random array:\n",
      " [[0.46374789 0.18925359]\n",
      " [0.60360714 0.55470983]]\n"
     ]
    }
   ],
   "source": [
    "d = np.random.random((2, 2))\n",
    "print (\"\\nA random array:\\n\", d)"
   ]
  },
  {
   "cell_type": "code",
   "execution_count": 8,
   "id": "74ca7f60",
   "metadata": {},
   "outputs": [
    {
     "ename": "AttributeError",
     "evalue": "module 'numpy' has no attribute 'arrange'",
     "output_type": "error",
     "traceback": [
      "\u001b[1;31m---------------------------------------------------------------------------\u001b[0m",
      "\u001b[1;31mAttributeError\u001b[0m                            Traceback (most recent call last)",
      "Cell \u001b[1;32mIn[8], line 1\u001b[0m\n\u001b[1;32m----> 1\u001b[0m e\u001b[38;5;241m=\u001b[39mnp\u001b[38;5;241m.\u001b[39marrange(\u001b[38;5;241m0\u001b[39m,\u001b[38;5;241m30\u001b[39m,\u001b[38;5;241m5\u001b[39m)\n\u001b[0;32m      2\u001b[0m \u001b[38;5;28mprint\u001b[39m(\u001b[38;5;124m\"\u001b[39m\u001b[38;5;130;01m\\n\u001b[39;00m\u001b[38;5;124m A sequential array with steps of 5:\u001b[39m\u001b[38;5;130;01m\\n\u001b[39;00m\u001b[38;5;124m\"\u001b[39m,e)\n",
      "File \u001b[1;32mC:\\ProgramData\\anaconda3\\Lib\\site-packages\\numpy\\__init__.py:320\u001b[0m, in \u001b[0;36m__getattr__\u001b[1;34m(attr)\u001b[0m\n\u001b[0;32m    317\u001b[0m     \u001b[38;5;28;01mfrom\u001b[39;00m \u001b[38;5;21;01m.\u001b[39;00m\u001b[38;5;21;01mtesting\u001b[39;00m \u001b[38;5;28;01mimport\u001b[39;00m Tester\n\u001b[0;32m    318\u001b[0m     \u001b[38;5;28;01mreturn\u001b[39;00m Tester\n\u001b[1;32m--> 320\u001b[0m \u001b[38;5;28;01mraise\u001b[39;00m \u001b[38;5;167;01mAttributeError\u001b[39;00m(\u001b[38;5;124m\"\u001b[39m\u001b[38;5;124mmodule \u001b[39m\u001b[38;5;132;01m{!r}\u001b[39;00m\u001b[38;5;124m has no attribute \u001b[39m\u001b[38;5;124m\"\u001b[39m\n\u001b[0;32m    321\u001b[0m                      \u001b[38;5;124m\"\u001b[39m\u001b[38;5;132;01m{!r}\u001b[39;00m\u001b[38;5;124m\"\u001b[39m\u001b[38;5;241m.\u001b[39mformat(\u001b[38;5;18m__name__\u001b[39m, attr))\n",
      "\u001b[1;31mAttributeError\u001b[0m: module 'numpy' has no attribute 'arrange'"
     ]
    }
   ],
   "source": [
    "e=np.arrange(0,30,5)\n",
    "print(\"\\n A sequential array with steps of 5:\\n\",e)"
   ]
  },
  {
   "cell_type": "code",
   "execution_count": 9,
   "id": "fe482764",
   "metadata": {},
   "outputs": [
    {
     "name": "stdout",
     "output_type": "stream",
     "text": [
      "\n",
      "A random array:\n",
      " [[0.19387695 0.14322412]\n",
      " [0.76461845 0.66925642]]\n"
     ]
    }
   ],
   "source": [
    "d = np.random.random((2, 2))\n",
    "print (\"\\nA random array:\\n\", d)"
   ]
  },
  {
   "cell_type": "code",
   "execution_count": 10,
   "id": "dadb163c",
   "metadata": {},
   "outputs": [
    {
     "name": "stdout",
     "output_type": "stream",
     "text": [
      "\n",
      "A random array:\n",
      " [[0.06131478 0.73736711]\n",
      " [0.28461885 0.42159063]]\n"
     ]
    }
   ],
   "source": [
    "d = np.random.random((2, 2))\n",
    "print (\"\\nA random array:\\n\", d)"
   ]
  },
  {
   "cell_type": "code",
   "execution_count": 11,
   "id": "814dee64",
   "metadata": {},
   "outputs": [
    {
     "name": "stdout",
     "output_type": "stream",
     "text": [
      "\n",
      "A sequential array with steps of 5:\n",
      " [ 0  5 10 15 20 25]\n"
     ]
    }
   ],
   "source": [
    "e = np.arange(0, 30, 5)\n",
    "print (\"\\nA sequential array with steps of 5:\\n\", e)"
   ]
  },
  {
   "cell_type": "code",
   "execution_count": 12,
   "id": "29b730cf",
   "metadata": {},
   "outputs": [
    {
     "name": "stdout",
     "output_type": "stream",
     "text": [
      "\n",
      "Original array:\n",
      " [[1 2 3 4]\n",
      " [5 2 4 2]\n",
      " [1 2 0 1]]\n",
      "Reshaped array[4,3]:\n",
      " [[1 2 3]\n",
      " [4 5 2]\n",
      " [4 2 1]\n",
      " [2 0 1]]\n"
     ]
    }
   ],
   "source": [
    "arr = np.array([[1, 2, 3, 4],[5, 2, 4, 2],[1, 2, 0, 1]])\n",
    "newarr = arr.reshape(4, 3)\n",
    "print (\"\\nOriginal array:\\n\", arr)\n",
    "print (\"Reshaped array[4,3]:\\n\", newarr)"
   ]
  },
  {
   "cell_type": "code",
   "execution_count": 13,
   "id": "71eeac13",
   "metadata": {},
   "outputs": [
    {
     "name": "stdout",
     "output_type": "stream",
     "text": [
      "\n",
      "Original array:\n",
      " [[1 2 3 4]\n",
      " [5 2 4 2]\n",
      " [1 2 0 1]]\n",
      "Fattened array:\n",
      " [1 2 3 4 5 2 4 2 1 2 0 1]\n"
     ]
    }
   ],
   "source": [
    "flarr = arr.flatten()\n",
    "print (\"\\nOriginal array:\\n\", arr)\n",
    "print (\"Fattened array:\\n\", flarr)"
   ]
  },
  {
   "cell_type": "code",
   "execution_count": 14,
   "id": "2c803f24",
   "metadata": {},
   "outputs": [
    {
     "name": "stdout",
     "output_type": "stream",
     "text": [
      "\n",
      "No. of dimensions:  2\n"
     ]
    }
   ],
   "source": [
    "print(\"\\nNo. of dimensions: \", arr.ndim)"
   ]
  },
  {
   "cell_type": "code",
   "execution_count": 15,
   "id": "639816ec",
   "metadata": {},
   "outputs": [
    {
     "name": "stdout",
     "output_type": "stream",
     "text": [
      "\n",
      "No. of shape:  (3, 4)\n"
     ]
    }
   ],
   "source": [
    "print(\"\\nNo. of shape: \", arr.shape)"
   ]
  },
  {
   "cell_type": "code",
   "execution_count": 16,
   "id": "618314e2",
   "metadata": {},
   "outputs": [
    {
     "name": "stdout",
     "output_type": "stream",
     "text": [
      "\n",
      "size of array:  12\n"
     ]
    }
   ],
   "source": [
    "print(\"\\nsize of array: \", arr.size)"
   ]
  },
  {
   "cell_type": "code",
   "execution_count": 17,
   "id": "a8e06788",
   "metadata": {},
   "outputs": [
    {
     "name": "stdout",
     "output_type": "stream",
     "text": [
      "\n",
      "Array stores elements of type:  int32\n"
     ]
    }
   ],
   "source": [
    "print(\"\\nArray stores elements of type: \",arr.dtype)"
   ]
  },
  {
   "cell_type": "code",
   "execution_count": 18,
   "id": "67f86163",
   "metadata": {},
   "outputs": [
    {
     "name": "stdout",
     "output_type": "stream",
     "text": [
      "\n",
      "Converted array elements:\n",
      " [[1. 2. 3. 4.]\n",
      " [5. 2. 4. 2.]\n",
      " [1. 2. 0. 1.]]\n",
      "Converted array type: float32\n"
     ]
    }
   ],
   "source": [
    "newtype=arr.astype('f')\n",
    "print(\"\\nConverted array elements:\\n\",newtype)\n",
    "print(\"Converted array type:\",newtype.dtype)"
   ]
  },
  {
   "cell_type": "code",
   "execution_count": 5,
   "id": "41e2effd",
   "metadata": {},
   "outputs": [
    {
     "name": "stdout",
     "output_type": "stream",
     "text": [
      "orginal array:\n",
      " [[-1.   2.   0.   4. ]\n",
      " [ 4.  -0.5  6.   0. ]\n",
      " [ 2.   6.   7.   8. ]\n",
      " [ 3.  -7.   4.   2. ]]\n"
     ]
    }
   ],
   "source": [
    "import numpy as np\n",
    "arr=np.array([[-1,2,0,4],[4,-0.5,6,0],[2,6,7,8],[3,-7,4,2.0]])\n",
    "print(\"orginal array:\\n\",arr)"
   ]
  },
  {
   "cell_type": "code",
   "execution_count": 7,
   "id": "274f0082",
   "metadata": {},
   "outputs": [
    {
     "name": "stdout",
     "output_type": "stream",
     "text": [
      "\n",
      " Every other rows : arr[0:3:2]:\n",
      " [[-1.  2.  0.  4.]\n",
      " [ 2.  6.  7.  8.]]\n"
     ]
    }
   ],
   "source": [
    "print(\"\\n Every other rows : arr[0:3:2]:\\n\",arr[0:3:2])"
   ]
  },
  {
   "cell_type": "code",
   "execution_count": 11,
   "id": "699500c7",
   "metadata": {},
   "outputs": [
    {
     "name": "stdout",
     "output_type": "stream",
     "text": [
      "\n",
      " Elements at indices (0,3),(1,2),(2,1),(3,0):\n",
      " [4. 6. 6. 3.]\n"
     ]
    }
   ],
   "source": [
    "temp=arr[[0,1,2,3],[3,2,1,0]]\n",
    "print(\"\\n Elements at indices (0,3),(1,2),(2,1),\"\"(3,0):\\n\",temp)"
   ]
  },
  {
   "cell_type": "code",
   "execution_count": 12,
   "id": "7a7682ef",
   "metadata": {},
   "outputs": [
    {
     "name": "stdout",
     "output_type": "stream",
     "text": [
      "\n",
      " Elements greater than 2:\n",
      " [4. 4. 6. 6. 7. 8. 3. 4.]\n"
     ]
    }
   ],
   "source": [
    "cond=arr>2\n",
    "temp=arr[cond]\n",
    "print(\"\\n Elements greater than 2:\\n\",temp)"
   ]
  },
  {
   "cell_type": "code",
   "execution_count": 13,
   "id": "0075de7c",
   "metadata": {},
   "outputs": [
    {
     "name": "stdout",
     "output_type": "stream",
     "text": [
      "\n",
      " orginal array:,arr\n",
      "\n",
      " Returns every other elements in the array:arr[::2] [1 3 5 7]\n"
     ]
    }
   ],
   "source": [
    "arr=np.array([1,2,3,4,5,6,7])\n",
    "print(\"\\n orginal array:,arr\")\n",
    "print(\"\\n Returns every other elements in the array:arr[::2]\",arr[::2])"
   ]
  },
  {
   "cell_type": "code",
   "execution_count": 14,
   "id": "fe852f77",
   "metadata": {},
   "outputs": [
    {
     "name": "stdout",
     "output_type": "stream",
     "text": [
      "\n",
      " orginal arrays:\n",
      " [1 2 3] [4 5 6]\n",
      "\n",
      " joined array:\n",
      " [1 2 3 4 5 6]\n"
     ]
    }
   ],
   "source": [
    "arr1=np.array([1,2,3])\n",
    "arr2=np.array([4,5,6])\n",
    "arr=np.concatenate((arr1,arr2))\n",
    "print(\"\\n orginal arrays:\\n\",arr1,arr2)\n",
    "print(\"\\n joined array:\\n\",arr)"
   ]
  },
  {
   "cell_type": "code",
   "execution_count": 15,
   "id": "f5c9d0a4",
   "metadata": {},
   "outputs": [
    {
     "name": "stdout",
     "output_type": "stream",
     "text": [
      "\n",
      " vertical joining:\n",
      " [1 2 3 4 5 6]\n"
     ]
    }
   ],
   "source": [
    "arr=np.hstack((arr1,arr2))\n",
    "print(\"\\n vertical joining:\\n\",arr)"
   ]
  },
  {
   "cell_type": "code",
   "execution_count": 16,
   "id": "80805075",
   "metadata": {},
   "outputs": [
    {
     "name": "stdout",
     "output_type": "stream",
     "text": [
      "\n",
      " Depth joinin:\n",
      " [[[1 4]\n",
      "  [2 5]\n",
      "  [3 6]]]\n"
     ]
    }
   ],
   "source": [
    "arr=np.dstack((arr1,arr2))\n",
    "print(\"\\n Depth joinin:\\n\",arr)"
   ]
  },
  {
   "cell_type": "code",
   "execution_count": 17,
   "id": "eb51c004",
   "metadata": {},
   "outputs": [
    {
     "name": "stdout",
     "output_type": "stream",
     "text": [
      "\n",
      " orginal array:\n",
      " [1 2 3 4 5 6]\n",
      "\n",
      "splitted array:\n",
      " [array([1, 2]), array([3, 4]), array([5, 6])]\n"
     ]
    }
   ],
   "source": [
    "arr=np.array([1,2,3,4,5,6])\n",
    "newarr=np.array_split(arr,3)\n",
    "print(\"\\n orginal array:\\n\",arr)\n",
    "print(\"\\nsplitted array:\\n\",newarr)"
   ]
  },
  {
   "cell_type": "code",
   "execution_count": 18,
   "id": "a1cc343d",
   "metadata": {},
   "outputs": [
    {
     "name": "stdout",
     "output_type": "stream",
     "text": [
      "\n",
      "splitted array in another form:\n",
      "\n",
      "[1 2]\n",
      "[3 4]\n",
      "[5 6]\n"
     ]
    }
   ],
   "source": [
    "print(\"\\nsplitted array in another form:\\n\")\n",
    "print(newarr[0])\n",
    "print(newarr[1])\n",
    "print(newarr[2])"
   ]
  },
  {
   "cell_type": "code",
   "execution_count": null,
   "id": "8d2ddea0",
   "metadata": {},
   "outputs": [],
   "source": []
  }
 ],
 "metadata": {
  "kernelspec": {
   "display_name": "Python 3 (ipykernel)",
   "language": "python",
   "name": "python3"
  },
  "language_info": {
   "codemirror_mode": {
    "name": "ipython",
    "version": 3
   },
   "file_extension": ".py",
   "mimetype": "text/x-python",
   "name": "python",
   "nbconvert_exporter": "python",
   "pygments_lexer": "ipython3",
   "version": "3.11.5"
  }
 },
 "nbformat": 4,
 "nbformat_minor": 5
}
