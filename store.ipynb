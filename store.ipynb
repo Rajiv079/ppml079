{
 "cells": [
  {
   "cell_type": "code",
   "execution_count": null,
   "id": "314a7624",
   "metadata": {},
   "outputs": [],
   "source": [
    "#experiment 9"
   ]
  },
  {
   "cell_type": "code",
   "execution_count": 3,
   "id": "b17ca0c8",
   "metadata": {},
   "outputs": [
    {
     "name": "stdout",
     "output_type": "stream",
     "text": [
      "       a  b  c\n",
      "one    1  2  3\n",
      "two    4  5  6\n",
      "three  7  8  9\n"
     ]
    }
   ],
   "source": [
    "import pandas as pd\n",
    "df=pd.DataFrame([[1,2,3],[4,5,6],[7,8,9]],index=['one','two','three'],columns=['a','b','c'])\n",
    "print(df)"
   ]
  },
  {
   "cell_type": "code",
   "execution_count": 11,
   "id": "c37532b8",
   "metadata": {},
   "outputs": [],
   "source": [
    "df.to_csv('D:\\emp.csv')"
   ]
  },
  {
   "cell_type": "code",
   "execution_count": 14,
   "id": "0dba8da6",
   "metadata": {},
   "outputs": [
    {
     "name": "stderr",
     "output_type": "stream",
     "text": [
      "C:\\Users\\Tcs\\AppData\\Local\\Temp\\ipykernel_5772\\4091345196.py:3: FutureWarning: The frame.append method is deprecated and will be removed from pandas in a future version. Use pandas.concat instead.\n",
      "  z=x.append(y)\n"
     ]
    }
   ],
   "source": [
    "x=pd.read_csv('D:\\employees.csv')\n",
    "y=pd.read_csv('D:\\emp.csv')\n",
    "z=x.append(y)\n",
    "z.to_csv('D:\\merged.csv')"
   ]
  },
  {
   "cell_type": "code",
   "execution_count": 20,
   "id": "fca35a46",
   "metadata": {},
   "outputs": [
    {
     "name": "stdout",
     "output_type": "stream",
     "text": [
      "    First Name  Gender Start Date Last Login Time    Salary  Bonus %  \\\n",
      "576    Michael    Male  7/30/1993         5:35 PM   35013.0   14.879   \n",
      "238      Kevin    Male  3/25/1982         7:31 AM   35061.0    5.128   \n",
      "82      Steven    Male  3/30/1980         9:20 PM   35095.0    8.379   \n",
      "63     Matthew    Male   1/2/2013        10:33 PM   35203.0   18.040   \n",
      "650    Cynthia  Female   7/5/1986         1:24 AM   35381.0   11.749   \n",
      "..         ...     ...        ...             ...       ...      ...   \n",
      "429       Rose  Female  5/28/2015         8:40 AM  149903.0    5.630   \n",
      "644  Katherine  Female  8/13/1996        12:21 AM  149908.0   18.912   \n",
      "0          NaN     NaN        NaN             NaN       NaN      NaN   \n",
      "1          NaN     NaN        NaN             NaN       NaN      NaN   \n",
      "2          NaN     NaN        NaN             NaN       NaN      NaN   \n",
      "\n",
      "    Senior Management             Team Unnamed: 0    a    b    c  \n",
      "576             False          Product        NaN  NaN  NaN  NaN  \n",
      "238             False            Legal        NaN  NaN  NaN  NaN  \n",
      "82               True  Client Services        NaN  NaN  NaN  NaN  \n",
      "63              False  Human Resources        NaN  NaN  NaN  NaN  \n",
      "650             False          Finance        NaN  NaN  NaN  NaN  \n",
      "..                ...              ...        ...  ...  ...  ...  \n",
      "429             False  Human Resources        NaN  NaN  NaN  NaN  \n",
      "644             False          Finance        NaN  NaN  NaN  NaN  \n",
      "0                 NaN              NaN        one  1.0  2.0  3.0  \n",
      "1                 NaN              NaN        two  4.0  5.0  6.0  \n",
      "2                 NaN              NaN      three  7.0  8.0  9.0  \n",
      "\n",
      "[1003 rows x 12 columns]\n"
     ]
    }
   ],
   "source": [
    "df=z.sort_values([\"Salary\"])\n",
    "print(df)\n",
    "df.to_csv('D:\\sort.csv')"
   ]
  },
  {
   "cell_type": "code",
   "execution_count": 23,
   "id": "599224eb",
   "metadata": {},
   "outputs": [
    {
     "name": "stdout",
     "output_type": "stream",
     "text": [
      "      Unnamed: 0.1 First Name  Gender Start Date Last Login Time    Salary  \\\n",
      "0              576    Michael    Male  7/30/1993         5:35 PM   35013.0   \n",
      "1              238      Kevin    Male  3/25/1982         7:31 AM   35061.0   \n",
      "2               82     Steven    Male  3/30/1980         9:20 PM   35095.0   \n",
      "3               63    Matthew    Male   1/2/2013        10:33 PM   35203.0   \n",
      "4              650    Cynthia  Female   7/5/1986         1:24 AM   35381.0   \n",
      "...            ...        ...     ...        ...             ...       ...   \n",
      "998            429       Rose  Female  5/28/2015         8:40 AM  149903.0   \n",
      "999            644  Katherine  Female  8/13/1996        12:21 AM  149908.0   \n",
      "1000             0        NaN     NaN        NaN             NaN       NaN   \n",
      "1001             1        NaN     NaN        NaN             NaN       NaN   \n",
      "1002             2        NaN     NaN        NaN             NaN       NaN   \n",
      "\n",
      "      Bonus % Senior Management             Team Unnamed: 0    a    b    c  \n",
      "0      14.879             False          Product        NaN  NaN  NaN  NaN  \n",
      "1       5.128             False            Legal        NaN  NaN  NaN  NaN  \n",
      "2       8.379              True  Client Services        NaN  NaN  NaN  NaN  \n",
      "3      18.040             False  Human Resources        NaN  NaN  NaN  NaN  \n",
      "4      11.749             False          Finance        NaN  NaN  NaN  NaN  \n",
      "...       ...               ...              ...        ...  ...  ...  ...  \n",
      "998     5.630             False  Human Resources        NaN  NaN  NaN  NaN  \n",
      "999    18.912             False          Finance        NaN  NaN  NaN  NaN  \n",
      "1000      NaN               NaN              NaN        one  1.0  2.0  3.0  \n",
      "1001      NaN               NaN              NaN        two  4.0  5.0  6.0  \n",
      "1002      NaN               NaN              NaN      three  7.0  8.0  9.0  \n",
      "\n",
      "[1003 rows x 13 columns]\n",
      "['Unnamed: 0.1', 'First Name', 'Gender', 'Start Date', 'Last Login Time', 'Salary', 'Bonus %', 'Senior Management', 'Team', 'Unnamed: 0', 'a', 'b', 'c']\n",
      "1003\n"
     ]
    }
   ],
   "source": [
    "df=pd.read_csv('D:\\sort.csv')\n",
    "print(df)\n",
    "print(list(df))\n",
    "print(format(len(df)))"
   ]
  }
 ],
 "metadata": {
  "kernelspec": {
   "display_name": "Python 3 (ipykernel)",
   "language": "python",
   "name": "python3"
  },
  "language_info": {
   "codemirror_mode": {
    "name": "ipython",
    "version": 3
   },
   "file_extension": ".py",
   "mimetype": "text/x-python",
   "name": "python",
   "nbconvert_exporter": "python",
   "pygments_lexer": "ipython3",
   "version": "3.9.12"
  }
 },
 "nbformat": 4,
 "nbformat_minor": 5
}
