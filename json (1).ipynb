{
 "cells": [
  {
   "cell_type": "code",
   "execution_count": 11,
   "id": "7c717458",
   "metadata": {},
   "outputs": [],
   "source": [
    "f=open(\"C:/Users/TCS/Documents/hari.txt\",'w')\n",
    "f.write(\"first line\\n\")\n",
    "f.write(\"second line\\n\")\n",
    "f.write(\"third line\\n\")\n",
    "f.close()"
   ]
  },
  {
   "cell_type": "code",
   "execution_count": 12,
   "id": "22cf429a",
   "metadata": {},
   "outputs": [
    {
     "name": "stdout",
     "output_type": "stream",
     "text": [
      "first line\n",
      "\n",
      "second line\n",
      "\n",
      "third line\n",
      "\n"
     ]
    }
   ],
   "source": [
    "k=open(\"C:/Users/TCS/Documents/hari.txt\",'r')\n",
    "print(k.readline())\n",
    "print(k.readline())\n",
    "print(k.readline())\n",
    "k.close()"
   ]
  },
  {
   "cell_type": "code",
   "execution_count": 14,
   "id": "e0d7f5d3",
   "metadata": {},
   "outputs": [],
   "source": [
    "m=open(\"C:/Users/TCS/Documents/hari.txt\",'a')\n",
    "m.write(\"fourth line\\n\")\n",
    "m.write(\"fifth line\\n\")\n",
    "m.close()\n"
   ]
  },
  {
   "cell_type": "code",
   "execution_count": 15,
   "id": "8f39481a",
   "metadata": {},
   "outputs": [
    {
     "name": "stdout",
     "output_type": "stream",
     "text": [
      "first line\n",
      "second line\n",
      "third line\n",
      "fourth line\n",
      "fifth line\n",
      "\n"
     ]
    }
   ],
   "source": [
    "p=open(\"C:/Users/TCS/Documents/hari.txt\",'r')\n",
    "print(p.read())\n",
    "p.close()"
   ]
  },
  {
   "cell_type": "code",
   "execution_count": 17,
   "id": "bc4a8d4d",
   "metadata": {},
   "outputs": [
    {
     "name": "stdout",
     "output_type": "stream",
     "text": [
      "new york\n"
     ]
    }
   ],
   "source": [
    "import json\n",
    "x='{\"name\":\"john\",\"age\":30,\"city\":\"new york\"}'\n",
    "y=json.loads(x)\n",
    "print(y[\"city\"])"
   ]
  },
  {
   "cell_type": "code",
   "execution_count": 18,
   "id": "f312590d",
   "metadata": {},
   "outputs": [
    {
     "name": "stdout",
     "output_type": "stream",
     "text": [
      "\"{\\\"name\\\":\\\"john\\\",\\\"age\\\":30,\\\"city\\\":\\\"new york\\\"}\"\n"
     ]
    }
   ],
   "source": [
    "x\n",
    "{\n",
    "    \"name\":\"john\",\n",
    "    \"age\":30,\n",
    "    \"city\":\"newyork\"\n",
    "}\n",
    "y=json.dumps(x)\n",
    "print(y)"
   ]
  },
  {
   "cell_type": "code",
   "execution_count": null,
   "id": "b02ddb15",
   "metadata": {},
   "outputs": [],
   "source": []
  }
 ],
 "metadata": {
  "kernelspec": {
   "display_name": "Python 3 (ipykernel)",
   "language": "python",
   "name": "python3"
  },
  "language_info": {
   "codemirror_mode": {
    "name": "ipython",
    "version": 3
   },
   "file_extension": ".py",
   "mimetype": "text/x-python",
   "name": "python",
   "nbconvert_exporter": "python",
   "pygments_lexer": "ipython3",
   "version": "3.11.5"
  }
 },
 "nbformat": 4,
 "nbformat_minor": 5
}
